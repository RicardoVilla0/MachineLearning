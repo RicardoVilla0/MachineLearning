{
  "nbformat": 4,
  "nbformat_minor": 0,
  "metadata": {
    "colab": {
      "provenance": [],
      "authorship_tag": "ABX9TyMKd5ZUsZGTlyZ5b7H4t0zG",
      "include_colab_link": true
    },
    "kernelspec": {
      "name": "python3",
      "display_name": "Python 3"
    },
    "language_info": {
      "name": "python"
    }
  },
  "cells": [
    {
      "cell_type": "markdown",
      "metadata": {
        "id": "view-in-github",
        "colab_type": "text"
      },
      "source": [
        "<a href=\"https://colab.research.google.com/github/RicardoVilla0/MachineLearning/blob/main/Unidad%203/Unidad_3.ipynb\" target=\"_parent\"><img src=\"https://colab.research.google.com/assets/colab-badge.svg\" alt=\"Open In Colab\"/></a>"
      ]
    },
    {
      "cell_type": "code",
      "execution_count": 3,
      "metadata": {
        "id": "pV897jHsdLjT"
      },
      "outputs": [],
      "source": [
        "from sklearn.model_selection import train_test_split\n",
        "from sklearn.neighbors import KNeighborsClassifier\n",
        "from sklearn.metrics import classification_report, confusion_matrix"
      ]
    },
    {
      "cell_type": "code",
      "source": [
        "import pandas as pd\n",
        "\n",
        "frutas = pd.read_csv('/content/fruit_data_with_colors.csv')"
      ],
      "metadata": {
        "id": "VcrH2eK8eKgq"
      },
      "execution_count": 4,
      "outputs": []
    },
    {
      "cell_type": "code",
      "source": [
        "X = frutas [[\"height\", \"width\",\"mass\",\"color_score\"]]\n",
        "Y = frutas [\"fruit_name\"]"
      ],
      "metadata": {
        "id": "oBc1nrtidt_W"
      },
      "execution_count": 6,
      "outputs": []
    },
    {
      "cell_type": "code",
      "source": [
        "X_train, X_test, Y_train, Y_test = train_test_split(x, y, random_state=0)\n",
        "#variables de entrada     #variables de salida\n",
        "#variables de entrenamiento y prueba"
      ],
      "metadata": {
        "id": "Do14U5PseDHr"
      },
      "execution_count": 20,
      "outputs": []
    },
    {
      "cell_type": "code",
      "source": [
        "clasificador_KNN = KNeighborsClassifier(n_neighbors=1)\n",
        "clasificador_KNN.fit(X_train, Y_train)\n",
        "\n",
        "print(\"Precision del clasificador en fase de entrenamiento\")\n",
        "clasificador_KNN.score(X_train, Y_train)"
      ],
      "metadata": {
        "colab": {
          "base_uri": "https://localhost:8080/"
        },
        "id": "LtXpxNOpecte",
        "outputId": "b5670da0-14ec-46cb-ed2d-04bbdafb5335"
      },
      "execution_count": 21,
      "outputs": [
        {
          "output_type": "stream",
          "name": "stdout",
          "text": [
            "Precision del clasificador en fase de entrenamiento\n"
          ]
        },
        {
          "output_type": "execute_result",
          "data": {
            "text/plain": [
              "1.0"
            ]
          },
          "metadata": {},
          "execution_count": 21
        }
      ]
    },
    {
      "cell_type": "code",
      "source": [
        "y_pred = clasificador_KNN.predict(X_test)\n",
        "print(\"Reporte de metricas del clasificador: \", \"\\n\", classification_report(Y_test, y_pred))\n",
        "print(\"Precision:\", clasificador_KNN.score(X_test, Y_test))"
      ],
      "metadata": {
        "colab": {
          "base_uri": "https://localhost:8080/"
        },
        "id": "V-H-j-Tzf8WT",
        "outputId": "61e8e356-4a36-492b-ab29-f346da4d3a6a"
      },
      "execution_count": 22,
      "outputs": [
        {
          "output_type": "stream",
          "name": "stdout",
          "text": [
            "Reporte de metricas del clasificador:  \n",
            "               precision    recall  f1-score   support\n",
            "\n",
            "       apple       0.40      0.50      0.44         4\n",
            "       lemon       1.00      0.50      0.67         2\n",
            "    mandarin       1.00      1.00      1.00         1\n",
            "      orange       0.62      0.62      0.62         8\n",
            "\n",
            "    accuracy                           0.60        15\n",
            "   macro avg       0.76      0.66      0.68        15\n",
            "weighted avg       0.64      0.60      0.61        15\n",
            "\n",
            "Precision: 0.6\n"
          ]
        }
      ]
    },
    {
      "cell_type": "code",
      "source": [
        "print(\"Matriz de confusion: \\n\", confusion_matrix(Y_test, y_pred))\n",
        "#primera fila-columna manzanas\n",
        "#segunda fila-columna limones"
      ],
      "metadata": {
        "colab": {
          "base_uri": "https://localhost:8080/"
        },
        "id": "JsSdMVeHhJE9",
        "outputId": "c7791d65-9d7a-4dfd-c835-d992fe770aec"
      },
      "execution_count": 27,
      "outputs": [
        {
          "output_type": "stream",
          "name": "stdout",
          "text": [
            "Matriz de confusion: \n",
            " [[2 0 0 2]\n",
            " [0 1 0 1]\n",
            " [0 0 1 0]\n",
            " [3 0 0 5]]\n"
          ]
        }
      ]
    },
    {
      "cell_type": "code",
      "source": [
        "clasificador_KNN5 = KNeighborsClassifier(n_neighbors=5)\n",
        "clasificador_KNN5.fit(X_train, Y_train)\n",
        "\n",
        "print(\"Precision del clasificador en fase de entrenamiento\")\n",
        "clasificador_KNN.score(X_train, Y_train)"
      ],
      "metadata": {
        "colab": {
          "base_uri": "https://localhost:8080/"
        },
        "id": "1YJuixKyi6cT",
        "outputId": "5de7d607-bc8e-48e9-fbba-013c555608fc"
      },
      "execution_count": 31,
      "outputs": [
        {
          "output_type": "stream",
          "name": "stdout",
          "text": [
            "Precision del clasificador en fase de entrenamiento\n"
          ]
        },
        {
          "output_type": "execute_result",
          "data": {
            "text/plain": [
              "0.7727272727272727"
            ]
          },
          "metadata": {},
          "execution_count": 31
        }
      ]
    },
    {
      "cell_type": "code",
      "source": [
        "x_pred = clasificador_KNN5.predict(X_test)\n",
        "print(\"Reporte de metricas del clasificador: \", \"\\n\", classification_report(Y_test, y_pred))\n",
        "print(\"Precision:\", clasificador_KNN5.score(X_test, Y_test))"
      ],
      "metadata": {
        "colab": {
          "base_uri": "https://localhost:8080/"
        },
        "id": "sKvGOIkSlBRo",
        "outputId": "60f833c0-f302-4e44-b611-37647f5fd0c4"
      },
      "execution_count": 34,
      "outputs": [
        {
          "output_type": "stream",
          "name": "stdout",
          "text": [
            "Reporte de metricas del clasificador:  \n",
            "               precision    recall  f1-score   support\n",
            "\n",
            "       apple       0.40      0.50      0.44         4\n",
            "       lemon       1.00      0.50      0.67         2\n",
            "    mandarin       1.00      1.00      1.00         1\n",
            "      orange       0.62      0.62      0.62         8\n",
            "\n",
            "    accuracy                           0.60        15\n",
            "   macro avg       0.76      0.66      0.68        15\n",
            "weighted avg       0.64      0.60      0.61        15\n",
            "\n",
            "Precision: 0.5333333333333333\n"
          ]
        }
      ]
    },
    {
      "cell_type": "code",
      "source": [
        "clasificador_KNN3 = KNeighborsClassifier(n_neighbors=3)\n",
        "clasificador_KNN3.fit(X_train, Y_train)\n",
        "\n",
        "print(\"Precision del clasificador en fase de entrenamiento\")\n",
        "clasificador_KNN3.score(X_train, Y_train)"
      ],
      "metadata": {
        "colab": {
          "base_uri": "https://localhost:8080/"
        },
        "id": "0B8bpoyrlr_1",
        "outputId": "06880d0e-4a37-4513-83ac-8f6f877aecd8"
      },
      "execution_count": 35,
      "outputs": [
        {
          "output_type": "stream",
          "name": "stdout",
          "text": [
            "Precision del clasificador en fase de entrenamiento\n"
          ]
        },
        {
          "output_type": "execute_result",
          "data": {
            "text/plain": [
              "0.8181818181818182"
            ]
          },
          "metadata": {},
          "execution_count": 35
        }
      ]
    },
    {
      "cell_type": "code",
      "source": [],
      "metadata": {
        "id": "HvNnDLdJl1hH"
      },
      "execution_count": null,
      "outputs": []
    }
  ]
}